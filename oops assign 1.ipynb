{
 "cells": [
  {
   "cell_type": "code",
   "execution_count": 1,
   "id": "f57ca381-6771-46b0-97f6-98ef84f66d8f",
   "metadata": {},
   "outputs": [],
   "source": [
    "#question 1"
   ]
  },
  {
   "cell_type": "code",
   "execution_count": 2,
   "id": "329c8099-c3ff-47ad-a3c6-aa895c6517c3",
   "metadata": {},
   "outputs": [],
   "source": [
    "#Class : A class can be defined as a template/blueprint that describes the behavior/state that the object of its type support."
   ]
  },
  {
   "cell_type": "code",
   "execution_count": 3,
   "id": "199620f6-8375-48f8-9d6e-028ce3eb1b6f",
   "metadata": {},
   "outputs": [],
   "source": [
    "# Object:  An object is an instance of a class."
   ]
  },
  {
   "cell_type": "code",
   "execution_count": 4,
   "id": "f52b9331-97b5-4297-8618-134b6b7fd3c5",
   "metadata": {},
   "outputs": [],
   "source": [
    "# example"
   ]
  },
  {
   "cell_type": "code",
   "execution_count": 11,
   "id": "5bef8b7e-2abe-4b30-aed3-097a7c44e2e8",
   "metadata": {},
   "outputs": [],
   "source": [
    "class car:\n",
    "    \n",
    "    def color(self,color):\n",
    "        self.color=color\n",
    "        \n",
    "    def return_color(self):\n",
    "        return self.color                                   # class"
   ]
  },
  {
   "cell_type": "code",
   "execution_count": 12,
   "id": "f5ee0b5d-d0f0-444f-8cf5-cc0f736ff733",
   "metadata": {},
   "outputs": [],
   "source": [
    "c=car()         # object"
   ]
  },
  {
   "cell_type": "code",
   "execution_count": 8,
   "id": "305f2b47-8e67-46a7-8ef6-c3494a9420da",
   "metadata": {},
   "outputs": [],
   "source": [
    "c.color(\"black\")"
   ]
  },
  {
   "cell_type": "code",
   "execution_count": 9,
   "id": "8aa2b7e1-38e8-4edf-b2f3-5f86466d3a20",
   "metadata": {},
   "outputs": [
    {
     "data": {
      "text/plain": [
       "<bound method car.return_color of <__main__.car object at 0x7f0b54041e10>>"
      ]
     },
     "execution_count": 9,
     "metadata": {},
     "output_type": "execute_result"
    }
   ],
   "source": [
    "c.return_color"
   ]
  },
  {
   "cell_type": "code",
   "execution_count": 10,
   "id": "1ad80793-a284-4423-bbb2-499644892cc5",
   "metadata": {},
   "outputs": [
    {
     "data": {
      "text/plain": [
       "'black'"
      ]
     },
     "execution_count": 10,
     "metadata": {},
     "output_type": "execute_result"
    }
   ],
   "source": [
    "c.return_color()"
   ]
  },
  {
   "cell_type": "code",
   "execution_count": 13,
   "id": "9a5fca32-e339-4f9c-91d7-ec47ed5c2360",
   "metadata": {},
   "outputs": [],
   "source": [
    "#question 2"
   ]
  },
  {
   "cell_type": "code",
   "execution_count": 14,
   "id": "9ddfe6e7-e7a5-4d94-ae12-4f2e561812c1",
   "metadata": {},
   "outputs": [],
   "source": [
    "#four pillars of oops : 1. Encapsulation\n",
    "# 2. Abstraction\n",
    "# 3. Polymorphism\n",
    "# 4. Inheritance"
   ]
  },
  {
   "cell_type": "code",
   "execution_count": 15,
   "id": "240284c0-2061-4fe7-9de1-8ad10ac53918",
   "metadata": {},
   "outputs": [],
   "source": [
    "# question 3"
   ]
  },
  {
   "cell_type": "code",
   "execution_count": 16,
   "id": "9a04fb8f-b275-4b14-9ca5-faef2d4d841b",
   "metadata": {},
   "outputs": [],
   "source": [
    "# __init__(): Use the __init__() function to assign values to object properties, or other operations that are necessary to do when the object is being created"
   ]
  },
  {
   "cell_type": "code",
   "execution_count": 17,
   "id": "351a066b-ff80-4166-bf81-b5b50b16df2d",
   "metadata": {},
   "outputs": [],
   "source": [
    "# example:"
   ]
  },
  {
   "cell_type": "code",
   "execution_count": 18,
   "id": "7b729d1f-b8f1-4b65-bbea-fe02c13416ab",
   "metadata": {},
   "outputs": [],
   "source": [
    "class person:\n",
    "    \n",
    "    def detail(self,name,number):\n",
    "        self.name=name\n",
    "        self.number=number\n",
    "        \n",
    "    def return_detail(self):\n",
    "        return self.name, self.number"
   ]
  },
  {
   "cell_type": "code",
   "execution_count": 19,
   "id": "36c071fc-553a-4bcf-b162-e4e35def9507",
   "metadata": {},
   "outputs": [],
   "source": [
    "p1=person()"
   ]
  },
  {
   "cell_type": "code",
   "execution_count": 20,
   "id": "3dcecd72-38c0-40b9-b054-8b157503d633",
   "metadata": {},
   "outputs": [],
   "source": [
    "p1.detail(\"neha\",45678900909)"
   ]
  },
  {
   "cell_type": "code",
   "execution_count": 21,
   "id": "cdf1c405-aeb1-492d-a8a5-dcbeb62ad00d",
   "metadata": {},
   "outputs": [
    {
     "data": {
      "text/plain": [
       "('neha', 45678900909)"
      ]
     },
     "execution_count": 21,
     "metadata": {},
     "output_type": "execute_result"
    }
   ],
   "source": [
    "p1.return_detail()"
   ]
  },
  {
   "cell_type": "code",
   "execution_count": 22,
   "id": "38ebd14e-65ba-459b-8f64-765db89b8e04",
   "metadata": {},
   "outputs": [],
   "source": [
    "p2=person()"
   ]
  },
  {
   "cell_type": "code",
   "execution_count": 23,
   "id": "d247b6d9-dcbd-499c-ab0c-3f19f63ca074",
   "metadata": {},
   "outputs": [],
   "source": [
    "p2.detail(\"anup\",3456789989)"
   ]
  },
  {
   "cell_type": "code",
   "execution_count": 24,
   "id": "27b45379-943c-4415-b97b-caaa8adae8ff",
   "metadata": {},
   "outputs": [
    {
     "data": {
      "text/plain": [
       "('anup', 3456789989)"
      ]
     },
     "execution_count": 24,
     "metadata": {},
     "output_type": "execute_result"
    }
   ],
   "source": [
    "p2.return_detail()"
   ]
  },
  {
   "cell_type": "code",
   "execution_count": 25,
   "id": "c9efd164-5f5f-48e8-995e-ee1816de7d79",
   "metadata": {},
   "outputs": [],
   "source": [
    "# question 4"
   ]
  },
  {
   "cell_type": "code",
   "execution_count": 26,
   "id": "76df0ad1-8bc4-496d-bb9e-2e3783f99d80",
   "metadata": {},
   "outputs": [],
   "source": [
    "#use of self : The self parameter is a reference to the current instance of the class, and is used to access variables that belongs to the class. It does not have to be named. "
   ]
  },
  {
   "cell_type": "code",
   "execution_count": 27,
   "id": "3ca85ba2-d885-475f-abb0-a48e97f3325f",
   "metadata": {},
   "outputs": [],
   "source": [
    "# question 5"
   ]
  },
  {
   "cell_type": "code",
   "execution_count": 28,
   "id": "0b31aa9f-48c4-42b3-8e80-8ccd5a4d8a47",
   "metadata": {},
   "outputs": [],
   "source": [
    "# Inheritance : Inheritance is a mechanism in which one class acquires the property of another class. For example, a child inherits the traits of his/her parents. With inheritance, we can reuse the fields and methods of the existing class."
   ]
  },
  {
   "cell_type": "code",
   "execution_count": 29,
   "id": "2cb4a215-34bc-4e07-8b54-b8fc8de95ac1",
   "metadata": {},
   "outputs": [],
   "source": [
    "# example of multi[ple inheritance:"
   ]
  },
  {
   "cell_type": "code",
   "execution_count": 30,
   "id": "98430f65-8b9d-4b59-96a8-1172a554e79d",
   "metadata": {},
   "outputs": [],
   "source": [
    "class parent1:\n",
    "    \n",
    "    def color(self):\n",
    "        print(\"white color\")\n",
    "        "
   ]
  },
  {
   "cell_type": "code",
   "execution_count": 31,
   "id": "af5c2531-77ff-4c64-b56d-666da14c0979",
   "metadata": {},
   "outputs": [],
   "source": [
    "class parent2:\n",
    "    \n",
    "    def height(self):\n",
    "        print(\"6\")"
   ]
  },
  {
   "cell_type": "code",
   "execution_count": 32,
   "id": "dd3ff7f4-a5f0-4537-afeb-010fb4703d16",
   "metadata": {},
   "outputs": [],
   "source": [
    "class child(parent1,parent2):\n",
    "    \n",
    "    def understanding(self):\n",
    "        print(\"less\")"
   ]
  },
  {
   "cell_type": "code",
   "execution_count": 33,
   "id": "6353b091-fec7-41c5-a564-8e1a0da81f56",
   "metadata": {},
   "outputs": [],
   "source": [
    "c=child()"
   ]
  },
  {
   "cell_type": "code",
   "execution_count": 34,
   "id": "734a1eb4-6024-404c-ae45-09bdf0f1ec12",
   "metadata": {},
   "outputs": [
    {
     "data": {
      "text/plain": [
       "<bound method parent2.height of <__main__.child object at 0x7f0b3e52d3f0>>"
      ]
     },
     "execution_count": 34,
     "metadata": {},
     "output_type": "execute_result"
    }
   ],
   "source": [
    "c.height"
   ]
  },
  {
   "cell_type": "code",
   "execution_count": 35,
   "id": "e02bce94-bec4-468d-9dcf-1b4ffa4d1d2b",
   "metadata": {},
   "outputs": [
    {
     "name": "stdout",
     "output_type": "stream",
     "text": [
      "6\n"
     ]
    }
   ],
   "source": [
    "c.height()"
   ]
  },
  {
   "cell_type": "code",
   "execution_count": 36,
   "id": "c24192a1-366a-4b3b-bd7f-adae20c920b6",
   "metadata": {},
   "outputs": [
    {
     "name": "stdout",
     "output_type": "stream",
     "text": [
      "white color\n"
     ]
    }
   ],
   "source": [
    "c.color()"
   ]
  },
  {
   "cell_type": "code",
   "execution_count": 37,
   "id": "fc83c7a3-3727-4cbd-8a79-7d9f33f2b68b",
   "metadata": {},
   "outputs": [],
   "source": [
    "# multilevel inheritance"
   ]
  },
  {
   "cell_type": "code",
   "execution_count": 38,
   "id": "21d79c09-2d44-4d7d-b7e1-b65721500078",
   "metadata": {},
   "outputs": [],
   "source": [
    "class class1:\n",
    "    \n",
    "    def test1(self):\n",
    "        print(\"this is test of class 1\")"
   ]
  },
  {
   "cell_type": "code",
   "execution_count": 39,
   "id": "769ce10b-550c-48f1-9132-d984eefbdc4a",
   "metadata": {},
   "outputs": [],
   "source": [
    "class class2(class1):\n",
    "    \n",
    "    def test2(self):\n",
    "        print(\"thuis is test of class 2\")"
   ]
  },
  {
   "cell_type": "code",
   "execution_count": 40,
   "id": "2de06884-9afb-42e3-ad88-279d92af89cb",
   "metadata": {},
   "outputs": [],
   "source": [
    "class class3(class2):\n",
    "    \n",
    "    def test3(self):\n",
    "        print(\"this is test of class 3\")"
   ]
  },
  {
   "cell_type": "code",
   "execution_count": 41,
   "id": "abf211e0-7343-49c8-9583-c921a236db60",
   "metadata": {},
   "outputs": [],
   "source": [
    "c=class3()"
   ]
  },
  {
   "cell_type": "code",
   "execution_count": 42,
   "id": "355baff7-03a2-4bef-ac9f-6e6565811bc3",
   "metadata": {},
   "outputs": [
    {
     "name": "stdout",
     "output_type": "stream",
     "text": [
      "this is test of class 1\n"
     ]
    }
   ],
   "source": [
    "c.test1()"
   ]
  },
  {
   "cell_type": "code",
   "execution_count": 43,
   "id": "fa0cf7ba-e7f7-41aa-9c83-8292a198f8d7",
   "metadata": {},
   "outputs": [
    {
     "name": "stdout",
     "output_type": "stream",
     "text": [
      "thuis is test of class 2\n"
     ]
    }
   ],
   "source": [
    "c.test2()"
   ]
  },
  {
   "cell_type": "code",
   "execution_count": 44,
   "id": "822115d9-8c89-45b8-b89c-e38afefc402b",
   "metadata": {},
   "outputs": [
    {
     "name": "stdout",
     "output_type": "stream",
     "text": [
      "this is test of class 3\n"
     ]
    }
   ],
   "source": [
    "c.test3()"
   ]
  },
  {
   "cell_type": "code",
   "execution_count": null,
   "id": "d6c3e6c9-10cd-4888-8bb5-1fded56e2509",
   "metadata": {},
   "outputs": [],
   "source": []
  }
 ],
 "metadata": {
  "kernelspec": {
   "display_name": "Python 3 (ipykernel)",
   "language": "python",
   "name": "python3"
  },
  "language_info": {
   "codemirror_mode": {
    "name": "ipython",
    "version": 3
   },
   "file_extension": ".py",
   "mimetype": "text/x-python",
   "name": "python",
   "nbconvert_exporter": "python",
   "pygments_lexer": "ipython3",
   "version": "3.10.8"
  }
 },
 "nbformat": 4,
 "nbformat_minor": 5
}
