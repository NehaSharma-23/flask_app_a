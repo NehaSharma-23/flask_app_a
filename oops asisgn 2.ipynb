{
 "cells": [
  {
   "cell_type": "code",
   "execution_count": 1,
   "id": "eaf0e2bc-45ce-4e90-b499-59d2647c4060",
   "metadata": {},
   "outputs": [],
   "source": [
    "# question 1"
   ]
  },
  {
   "cell_type": "code",
   "execution_count": 2,
   "id": "093f80bb-4f1f-4805-bec0-9423727a17db",
   "metadata": {},
   "outputs": [],
   "source": [
    "# Abstraction : an abstraction is used to hide the irrelevant data/class in order to reduce the complexity. It also enhances the application efficiency."
   ]
  },
  {
   "cell_type": "code",
   "execution_count": null,
   "id": "dd48c7af-24db-4d05-a3bf-f148e9749076",
   "metadata": {},
   "outputs": [],
   "source": []
  },
  {
   "cell_type": "code",
   "execution_count": 3,
   "id": "37c7e331-2ae9-4296-9255-4a00da80d290",
   "metadata": {},
   "outputs": [],
   "source": [
    "# example:\n"
   ]
  },
  {
   "cell_type": "code",
   "execution_count": 2,
   "id": "fcbc7303-7987-40c4-aa12-c639e944b30c",
   "metadata": {},
   "outputs": [],
   "source": [
    "import abc"
   ]
  },
  {
   "cell_type": "code",
   "execution_count": 5,
   "id": "74888fc1-a25a-421a-a31e-beda1f1a0754",
   "metadata": {},
   "outputs": [],
   "source": [
    "class project:\n",
    "    \n",
    "    @abc.abstractmethod\n",
    "    def employess_details(self):\n",
    "        pass\n",
    "    \n",
    "    @abc.abstractmethod\n",
    "    def modules(self,list_of_module):\n",
    "        pass"
   ]
  },
  {
   "cell_type": "code",
   "execution_count": 11,
   "id": "506f8a5e-7e83-442f-a379-c922843fc395",
   "metadata": {},
   "outputs": [],
   "source": [
    "class group1:\n",
    "    \n",
    "    def employess_details(self,name,phone_number,email_id):\n",
    "        self.n=name\n",
    "        self.p=phone_number\n",
    "        self.e=email_id\n",
    "        \n",
    "    def modules(self,list_of_module):\n",
    "        self.list_of_module=list_of_module\n",
    "        \n",
    "    def return_details(self):\n",
    "        return self.n, self.p, self.e, self.list_of_module"
   ]
  },
  {
   "cell_type": "code",
   "execution_count": 13,
   "id": "f913abbd-5f84-4065-a97d-d253ffd003bb",
   "metadata": {},
   "outputs": [],
   "source": [
    "class group2:\n",
    "    \n",
    "    def employess_details(self,name,phone_number,email_id):\n",
    "        self.n=name\n",
    "        self.p=phone_number\n",
    "        self.e=email_id\n",
    "        \n",
    "    def modules(self,list_of_module):\n",
    "        self.list_of_module=list_of_module\n",
    "        \n",
    "    def return_details(self):\n",
    "        return self.n, self.p, self.e, self.list_of_module"
   ]
  },
  {
   "cell_type": "code",
   "execution_count": 14,
   "id": "2e986ce0-9182-4011-a46c-74f86196c31a",
   "metadata": {},
   "outputs": [],
   "source": [
    "emp1=group1()"
   ]
  },
  {
   "cell_type": "code",
   "execution_count": 15,
   "id": "63a98211-396c-4096-9859-65f1e5bb15ad",
   "metadata": {},
   "outputs": [],
   "source": [
    "emp1.employess_details(\"neha\",45678980,\"neha@gmail.com\")"
   ]
  },
  {
   "cell_type": "code",
   "execution_count": 17,
   "id": "94692230-843f-494a-bad3-de1321fd9793",
   "metadata": {},
   "outputs": [],
   "source": [
    "emp1.modules([\"module1\",\"module4\"])"
   ]
  },
  {
   "cell_type": "code",
   "execution_count": 18,
   "id": "08c856fe-c6d8-42f9-ac5c-31338b025723",
   "metadata": {},
   "outputs": [
    {
     "data": {
      "text/plain": [
       "('neha', 45678980, 'neha@gmail.com', ['module1', 'module4'])"
      ]
     },
     "execution_count": 18,
     "metadata": {},
     "output_type": "execute_result"
    }
   ],
   "source": [
    "emp1.return_details()"
   ]
  },
  {
   "cell_type": "code",
   "execution_count": 1,
   "id": "fa43c61c-4d27-47bc-9bea-465a1656c1db",
   "metadata": {},
   "outputs": [],
   "source": [
    "# Q2. Differentiate between Abstraction and Encapsulation. Explain with an example."
   ]
  },
  {
   "cell_type": "code",
   "execution_count": 2,
   "id": "eede30a2-c68b-4ecc-94e5-003461960fdc",
   "metadata": {},
   "outputs": [],
   "source": [
    " # Encapsulation: combining all the attributes and the methods that the class needs under one umbrella (class itself) makes your code easy to maintain. Abstraction: hiding away the implementation details from the external user which makes your code easy to be shared with other developers."
   ]
  },
  {
   "cell_type": "code",
   "execution_count": 3,
   "id": "a7a18f46-7a59-4fdc-b720-87e00d4a590d",
   "metadata": {},
   "outputs": [],
   "source": [
    "# example of encapsulation :\n"
   ]
  },
  {
   "cell_type": "code",
   "execution_count": 9,
   "id": "5bcef25e-8f18-46d4-aafc-b1f13a035d03",
   "metadata": {},
   "outputs": [],
   "source": [
    "class base:\n",
    "    \n",
    "    def __init__(self,name,email,roll):\n",
    "        self.__n=name\n",
    "        self.__e=email        # private onstance jo user ko show nhi hoga\n",
    "        self.r=roll\n",
    "        \n",
    "    def return_details(self):\n",
    "        return self.__n,self.__e,self.r\n",
    "        \n",
    "    "
   ]
  },
  {
   "cell_type": "code",
   "execution_count": 10,
   "id": "ff3fed7f-a6db-42df-b947-56582af1eb6d",
   "metadata": {},
   "outputs": [],
   "source": [
    "b=base(\"neha\",\"neha@gmail.com\",101)"
   ]
  },
  {
   "cell_type": "code",
   "execution_count": 11,
   "id": "13d703eb-74cc-44f2-bba4-bd65e25555e2",
   "metadata": {},
   "outputs": [
    {
     "data": {
      "text/plain": [
       "101"
      ]
     },
     "execution_count": 11,
     "metadata": {},
     "output_type": "execute_result"
    }
   ],
   "source": [
    "b.r"
   ]
  },
  {
   "cell_type": "code",
   "execution_count": 12,
   "id": "0ee04403-3921-45fd-85cd-3fbeccb22101",
   "metadata": {},
   "outputs": [
    {
     "data": {
      "text/plain": [
       "('neha', 'neha@gmail.com', 101)"
      ]
     },
     "execution_count": 12,
     "metadata": {},
     "output_type": "execute_result"
    }
   ],
   "source": [
    "b.return_details()"
   ]
  },
  {
   "cell_type": "code",
   "execution_count": 35,
   "id": "fabfd312-2a73-4154-a16f-6ecd7d152efa",
   "metadata": {},
   "outputs": [],
   "source": [
    "# example of abstraction:\n",
    "        "
   ]
  },
  {
   "cell_type": "code",
   "execution_count": 64,
   "id": "4623a4d3-f452-4320-aac0-2049c51f0ba2",
   "metadata": {},
   "outputs": [],
   "source": [
    "import abc\n",
    "class Car: \n",
    "    @abc.abstractmethod\n",
    "    def mileage(self):   \n",
    "        pass  \n",
    "    @abc.abstractmethod\n",
    "    def speed(self):\n",
    "        pass\n",
    "  "
   ]
  },
  {
   "cell_type": "code",
   "execution_count": 65,
   "id": "12d96aeb-6d09-4ad7-9e9b-7028909b749d",
   "metadata": {},
   "outputs": [],
   "source": [
    "class Tesla(Car):   \n",
    "    def mileage(self):   \n",
    "        print(\"The mileage is 30kmph\")   \n"
   ]
  },
  {
   "cell_type": "code",
   "execution_count": 66,
   "id": "8c4fdca3-1905-438d-a5af-76fdeb90b957",
   "metadata": {},
   "outputs": [],
   "source": [
    "class Suzuki(Car):   \n",
    "    def mileage(self):   \n",
    "        print(\"The mileage is 25kmph \")   \n",
    "    \n",
    "    def speed(self):\n",
    "        print(\"40km/hr\")"
   ]
  },
  {
   "cell_type": "code",
   "execution_count": 67,
   "id": "ac8748a0-da13-4d38-adfa-0895d34c52e7",
   "metadata": {},
   "outputs": [],
   "source": [
    "t=Tesla()"
   ]
  },
  {
   "cell_type": "code",
   "execution_count": 69,
   "id": "8266a6e2-dddb-44f5-87b4-713356086775",
   "metadata": {},
   "outputs": [
    {
     "name": "stdout",
     "output_type": "stream",
     "text": [
      "The mileage is 30kmph\n"
     ]
    }
   ],
   "source": [
    "t.mileage()"
   ]
  },
  {
   "cell_type": "code",
   "execution_count": 70,
   "id": "a716215c-d3af-407f-878d-9e2305d5b480",
   "metadata": {},
   "outputs": [],
   "source": [
    "s=Suzuki()"
   ]
  },
  {
   "cell_type": "code",
   "execution_count": 71,
   "id": "c2dc3b82-29b8-467b-8a0a-36ed5389be0b",
   "metadata": {},
   "outputs": [
    {
     "name": "stdout",
     "output_type": "stream",
     "text": [
      "The mileage is 25kmph \n"
     ]
    }
   ],
   "source": [
    "s.mileage()"
   ]
  },
  {
   "cell_type": "code",
   "execution_count": 72,
   "id": "f30bacac-341a-44a1-8b2c-c7f4e17dd249",
   "metadata": {},
   "outputs": [
    {
     "name": "stdout",
     "output_type": "stream",
     "text": [
      "40km/hr\n"
     ]
    }
   ],
   "source": [
    "s.speed()"
   ]
  },
  {
   "cell_type": "code",
   "execution_count": 45,
   "id": "e78cddf0-2b1b-4266-bf80-397fc0da5647",
   "metadata": {},
   "outputs": [],
   "source": [
    "# question 3"
   ]
  },
  {
   "cell_type": "code",
   "execution_count": 46,
   "id": "55316598-07bf-45eb-a1ea-8735605f52d4",
   "metadata": {},
   "outputs": [],
   "source": [
    "# ABC module :  Python is not a fully object-oriented programming language but it supports the features like abstract classes and abstraction. We cannot create abstract classes directly in Python, so Python provides a module called abc that provides the infrastructure for defining the base of Abstract Base Classes(ABC)."
   ]
  },
  {
   "cell_type": "code",
   "execution_count": 47,
   "id": "c47fd590-ef16-44de-8bcc-c62843478152",
   "metadata": {},
   "outputs": [],
   "source": [
    "# question 4"
   ]
  },
  {
   "cell_type": "code",
   "execution_count": 63,
   "id": "20c74eb5-31c0-4320-b696-5c46ed58e54f",
   "metadata": {},
   "outputs": [],
   "source": [
    " # Data Abstraction in Python can be achieved through creating abstract classes and inheriting them later. Before discussing what abstract classes are, let us have a brief introduction of inheritance. Inheritance in OOP is a way through which one class inherits the attributes and methods of another class."
   ]
  },
  {
   "cell_type": "code",
   "execution_count": 73,
   "id": "68b56bfb-d8e8-4aa5-9f86-4d57a5507c29",
   "metadata": {},
   "outputs": [],
   "source": [
    "# class parents:\n",
    "#     def color(self):\n",
    "#         print(\"black\")\n",
    "        "
   ]
  },
  {
   "cell_type": "code",
   "execution_count": 74,
   "id": "c2af4880-efb1-42e8-9c1f-7592aab9faad",
   "metadata": {},
   "outputs": [],
   "source": [
    "# class child(parents):\n",
    "#     pass"
   ]
  },
  {
   "cell_type": "code",
   "execution_count": 75,
   "id": "f0f11876-4771-4a38-ae80-2fd8d33d6d3a",
   "metadata": {},
   "outputs": [],
   "source": [
    "# c=child()"
   ]
  },
  {
   "cell_type": "code",
   "execution_count": 76,
   "id": "36817b25-0c11-422b-9e77-86b944a0acd0",
   "metadata": {},
   "outputs": [
    {
     "name": "stdout",
     "output_type": "stream",
     "text": [
      "black\n"
     ]
    }
   ],
   "source": [
    "# c.color()"
   ]
  },
  {
   "cell_type": "code",
   "execution_count": 77,
   "id": "dad44604-5459-4909-bcc8-089a372d3f2d",
   "metadata": {},
   "outputs": [],
   "source": [
    "# import abc\n",
    "# class parents:\n",
    "#     @abc.abstractmethod\n",
    "#     def color(self):\n",
    "#         print(\"black\")\n",
    "        "
   ]
  },
  {
   "cell_type": "code",
   "execution_count": 78,
   "id": "86968bdb-5637-43b8-a9b3-916895b99647",
   "metadata": {},
   "outputs": [],
   "source": [
    "class child(parents):\n",
    "    pass"
   ]
  },
  {
   "cell_type": "code",
   "execution_count": 79,
   "id": "6acbb76a-3a2c-475c-911b-3ef45a6665bf",
   "metadata": {},
   "outputs": [],
   "source": [
    "# c1=child()"
   ]
  },
  {
   "cell_type": "code",
   "execution_count": 80,
   "id": "fda0a02d-e8aa-4faa-bfa6-9914baeb1faf",
   "metadata": {},
   "outputs": [
    {
     "name": "stdout",
     "output_type": "stream",
     "text": [
      "black\n"
     ]
    }
   ],
   "source": [
    "# c1.color()"
   ]
  },
  {
   "cell_type": "code",
   "execution_count": 81,
   "id": "784ef81c-33ab-4780-8b7f-739e6d443833",
   "metadata": {},
   "outputs": [],
   "source": [
    "# class child1(parents):\n",
    "#     def color(self):\n",
    "#         print(\"green\")"
   ]
  },
  {
   "cell_type": "code",
   "execution_count": 82,
   "id": "3c80acb7-4163-499f-ab76-0597e02bcad8",
   "metadata": {},
   "outputs": [],
   "source": [
    "# c2=child1()"
   ]
  },
  {
   "cell_type": "code",
   "execution_count": 83,
   "id": "81fdb685-b7e4-4fd4-ad68-b9fe42938ffc",
   "metadata": {},
   "outputs": [
    {
     "name": "stdout",
     "output_type": "stream",
     "text": [
      "green\n"
     ]
    }
   ],
   "source": [
    "# c2.color()"
   ]
  },
  {
   "cell_type": "code",
   "execution_count": 84,
   "id": "9b49b07d-b8e2-41bc-a5b5-f5545439fe6f",
   "metadata": {},
   "outputs": [],
   "source": [
    "# question 5"
   ]
  },
  {
   "cell_type": "code",
   "execution_count": 85,
   "id": "4acf365e-a8af-4aeb-b997-f8fbc54d644f",
   "metadata": {},
   "outputs": [],
   "source": [
    "# Abstract classes are not complete, as they may have some methods that are not defined. So we cannot create an instance or object of an abstract class in Python."
   ]
  },
  {
   "cell_type": "code",
   "execution_count": null,
   "id": "53184b9c-c6f8-4fc7-838f-3e60678c89f6",
   "metadata": {},
   "outputs": [],
   "source": []
  }
 ],
 "metadata": {
  "kernelspec": {
   "display_name": "Python 3 (ipykernel)",
   "language": "python",
   "name": "python3"
  },
  "language_info": {
   "codemirror_mode": {
    "name": "ipython",
    "version": 3
   },
   "file_extension": ".py",
   "mimetype": "text/x-python",
   "name": "python",
   "nbconvert_exporter": "python",
   "pygments_lexer": "ipython3",
   "version": "3.10.8"
  }
 },
 "nbformat": 4,
 "nbformat_minor": 5
}
