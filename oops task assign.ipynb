{
 "cells": [
  {
   "cell_type": "code",
   "execution_count": 2,
   "id": "8532db71-d9f0-413d-857e-e2015e7d788b",
   "metadata": {},
   "outputs": [],
   "source": [
    "class vehicle:\n",
    "    \n",
    "    def __init__(self,name_of_vehicle,max_speed,average_of_vehicle):\n",
    "        self.name=name_of_vehicle\n",
    "        self.speed=max_speed\n",
    "        self.average=average_of_vehicle\n",
    "    \n",
    "    def return_details(self):\n",
    "        return self.name,self.speed,self.average"
   ]
  },
  {
   "cell_type": "code",
   "execution_count": 4,
   "id": "9fb65978-8b79-4982-9d68-b33fe64b00c8",
   "metadata": {},
   "outputs": [],
   "source": [
    "veh=vehicle(\"bike\",80,90)"
   ]
  },
  {
   "cell_type": "code",
   "execution_count": 5,
   "id": "3c6c1c4f-8482-4dee-b63e-321c1d0cddd8",
   "metadata": {},
   "outputs": [
    {
     "data": {
      "text/plain": [
       "'bike'"
      ]
     },
     "execution_count": 5,
     "metadata": {},
     "output_type": "execute_result"
    }
   ],
   "source": [
    "veh.name"
   ]
  },
  {
   "cell_type": "code",
   "execution_count": 6,
   "id": "aa7c8587-b447-4c62-b6aa-1a58babd041d",
   "metadata": {},
   "outputs": [
    {
     "data": {
      "text/plain": [
       "('bike', 80, 90)"
      ]
     },
     "execution_count": 6,
     "metadata": {},
     "output_type": "execute_result"
    }
   ],
   "source": [
    "veh.return_details()"
   ]
  },
  {
   "cell_type": "code",
   "execution_count": 7,
   "id": "8300e58c-df27-4bc7-b979-a394262b6a3c",
   "metadata": {},
   "outputs": [],
   "source": [
    "# question 2"
   ]
  },
  {
   "cell_type": "code",
   "execution_count": 18,
   "id": "0dce84f7-091a-4b5d-a9a6-e1b62b6a5249",
   "metadata": {},
   "outputs": [],
   "source": [
    "class child(vehicle):\n",
    "    \n",
    "    def seating_capacity(self,capacity):\n",
    "        self.capacity=capacity\n",
    "        \n",
    "    def return_capacity(self):\n",
    "        return self.name,self.capacity"
   ]
  },
  {
   "cell_type": "code",
   "execution_count": 19,
   "id": "3c959bc7-69af-439b-b17f-ff8539d65b23",
   "metadata": {},
   "outputs": [],
   "source": [
    "c=child(\"car\",34,69)"
   ]
  },
  {
   "cell_type": "code",
   "execution_count": 22,
   "id": "b5c1eda9-81a9-4690-a52c-c9d2f008d3b7",
   "metadata": {},
   "outputs": [],
   "source": [
    "c.seating_capacity(45)\n"
   ]
  },
  {
   "cell_type": "code",
   "execution_count": 23,
   "id": "5d6067d4-e215-4464-aa55-8a6d01cab025",
   "metadata": {},
   "outputs": [
    {
     "data": {
      "text/plain": [
       "('car', 45)"
      ]
     },
     "execution_count": 23,
     "metadata": {},
     "output_type": "execute_result"
    }
   ],
   "source": [
    "c.return_capacity()"
   ]
  },
  {
   "cell_type": "code",
   "execution_count": 24,
   "id": "6af55300-7fc2-4395-8f93-162532038ed0",
   "metadata": {},
   "outputs": [
    {
     "data": {
      "text/plain": [
       "'car'"
      ]
     },
     "execution_count": 24,
     "metadata": {},
     "output_type": "execute_result"
    }
   ],
   "source": [
    "c.name"
   ]
  },
  {
   "cell_type": "code",
   "execution_count": 25,
   "id": "012c8093-eb20-4f1d-9d86-e286664590ea",
   "metadata": {},
   "outputs": [
    {
     "data": {
      "text/plain": [
       "34"
      ]
     },
     "execution_count": 25,
     "metadata": {},
     "output_type": "execute_result"
    }
   ],
   "source": [
    "c.speed"
   ]
  },
  {
   "cell_type": "code",
   "execution_count": 26,
   "id": "fe076ded-c5af-448a-acdb-43036d8f90ed",
   "metadata": {},
   "outputs": [],
   "source": [
    "# question 3"
   ]
  },
  {
   "cell_type": "code",
   "execution_count": 6,
   "id": "e224304b-f4ac-4cf9-9a7e-920c1b67b259",
   "metadata": {},
   "outputs": [],
   "source": [
    "class class1:\n",
    "    \n",
    "    def syllabus1(self):\n",
    "        return \"details of syllabus ds\"\n",
    "    \n",
    "    "
   ]
  },
  {
   "cell_type": "code",
   "execution_count": 7,
   "id": "a8176024-de08-4297-9108-58b45afaeac4",
   "metadata": {},
   "outputs": [],
   "source": [
    "class class2:\n",
    "    \n",
    "    def syllabus2(self):\n",
    "        return \"details of syllabus wd\""
   ]
  },
  {
   "cell_type": "code",
   "execution_count": 8,
   "id": "0f7a3748-8197-4334-a19c-d73e7522a178",
   "metadata": {},
   "outputs": [],
   "source": [
    "class class3(class1,class2):\n",
    "    pass"
   ]
  },
  {
   "cell_type": "code",
   "execution_count": 9,
   "id": "dc6f1fbe-f78f-45b3-8c8a-420f4868f0db",
   "metadata": {},
   "outputs": [],
   "source": [
    "c=class3()"
   ]
  },
  {
   "cell_type": "code",
   "execution_count": 10,
   "id": "194537c8-0d03-4a60-b67f-ab950733118c",
   "metadata": {},
   "outputs": [
    {
     "data": {
      "text/plain": [
       "'details of syllabus ds'"
      ]
     },
     "execution_count": 10,
     "metadata": {},
     "output_type": "execute_result"
    }
   ],
   "source": [
    "c.syllabus1()"
   ]
  },
  {
   "cell_type": "code",
   "execution_count": 11,
   "id": "c9eec6c8-740a-42be-ba38-2671fd56059f",
   "metadata": {},
   "outputs": [
    {
     "data": {
      "text/plain": [
       "'details of syllabus wd'"
      ]
     },
     "execution_count": 11,
     "metadata": {},
     "output_type": "execute_result"
    }
   ],
   "source": [
    "c.syllabus2()"
   ]
  },
  {
   "cell_type": "code",
   "execution_count": 12,
   "id": "cb38e007-3671-4cf1-a14a-f1f32a2a414f",
   "metadata": {},
   "outputs": [],
   "source": [
    "# question 4"
   ]
  },
  {
   "cell_type": "code",
   "execution_count": 14,
   "id": "11baf1aa-2185-4f30-b886-02ddb895829e",
   "metadata": {},
   "outputs": [],
   "source": [
    "class student_details:\n",
    "    \n",
    "    def __init__(self, name,phone_number,email_id):\n",
    "        self.__phone=phone_number\n",
    "        self.name=name\n",
    "        self.__email=email_id\n",
    "        \n",
    "    def set_details(self,phone_number,email_id):\n",
    "        self.__phone=phone_number\n",
    "        self.__email=email_id\n",
    "        \n",
    "    def get_details(self):\n",
    "        return self.name,self.__phone,self.__email"
   ]
  },
  {
   "cell_type": "code",
   "execution_count": 15,
   "id": "ae369a76-5bd0-4420-a313-20d440bfb636",
   "metadata": {},
   "outputs": [],
   "source": [
    "stu_obj=student_details(\"neha\",7495076817,\"neha@gmail.com\")"
   ]
  },
  {
   "cell_type": "code",
   "execution_count": 16,
   "id": "8d0c4c42-db60-42da-9459-a9f547ec5cfe",
   "metadata": {},
   "outputs": [
    {
     "data": {
      "text/plain": [
       "'neha'"
      ]
     },
     "execution_count": 16,
     "metadata": {},
     "output_type": "execute_result"
    }
   ],
   "source": [
    "stu_obj.name"
   ]
  },
  {
   "cell_type": "code",
   "execution_count": 17,
   "id": "d1fa0bd6-8d12-4fa6-a79c-4214e3b72bde",
   "metadata": {},
   "outputs": [
    {
     "data": {
      "text/plain": [
       "('neha', 7495076817, 'neha@gmail.com')"
      ]
     },
     "execution_count": 17,
     "metadata": {},
     "output_type": "execute_result"
    }
   ],
   "source": [
    "stu_obj.get_details()"
   ]
  },
  {
   "cell_type": "code",
   "execution_count": 18,
   "id": "5d470d55-e209-49df-b3ce-c4fa0943fb24",
   "metadata": {},
   "outputs": [],
   "source": [
    "stu_obj.set_details(65348279,\"vdgsf@gmail.com\")"
   ]
  },
  {
   "cell_type": "code",
   "execution_count": 19,
   "id": "a1f104b2-0cef-4ad6-bd80-805e92dcb2d7",
   "metadata": {},
   "outputs": [
    {
     "data": {
      "text/plain": [
       "('neha', 65348279, 'vdgsf@gmail.com')"
      ]
     },
     "execution_count": 19,
     "metadata": {},
     "output_type": "execute_result"
    }
   ],
   "source": [
    "stu_obj.get_details()"
   ]
  },
  {
   "cell_type": "code",
   "execution_count": 20,
   "id": "105e6e16-42fc-4645-9ff6-9d0f374b09d1",
   "metadata": {},
   "outputs": [],
   "source": [
    "# question 5"
   ]
  },
  {
   "cell_type": "code",
   "execution_count": 21,
   "id": "702f968b-9091-40d5-aeec-4138443b933e",
   "metadata": {},
   "outputs": [],
   "source": [
    "class test:\n",
    "    \n",
    "    def written(self):\n",
    "        return \"none\""
   ]
  },
  {
   "cell_type": "code",
   "execution_count": 22,
   "id": "74502170-edff-4601-ac55-53870917c36a",
   "metadata": {},
   "outputs": [],
   "source": [
    "class test1:\n",
    "    \n",
    "    def written(self):\n",
    "        return \"something\""
   ]
  },
  {
   "cell_type": "code",
   "execution_count": 23,
   "id": "1c76e3c5-bea7-4d6d-a675-dbeea1e30630",
   "metadata": {},
   "outputs": [],
   "source": [
    "c=test()"
   ]
  },
  {
   "cell_type": "code",
   "execution_count": 24,
   "id": "a51f5930-51c5-46d0-9ebd-3dcc546ceb85",
   "metadata": {},
   "outputs": [
    {
     "data": {
      "text/plain": [
       "<bound method test.written of <__main__.test object at 0x7fe1b1572350>>"
      ]
     },
     "execution_count": 24,
     "metadata": {},
     "output_type": "execute_result"
    }
   ],
   "source": [
    "c.written"
   ]
  },
  {
   "cell_type": "code",
   "execution_count": 25,
   "id": "0b5ef98f-9ad3-4eac-b197-a0ac7033ea5b",
   "metadata": {},
   "outputs": [
    {
     "data": {
      "text/plain": [
       "'none'"
      ]
     },
     "execution_count": 25,
     "metadata": {},
     "output_type": "execute_result"
    }
   ],
   "source": [
    "c.written()"
   ]
  },
  {
   "cell_type": "code",
   "execution_count": 26,
   "id": "4f10c88a-d252-4736-bcb8-7f95b402bf8a",
   "metadata": {},
   "outputs": [],
   "source": [
    "c1=test1()"
   ]
  },
  {
   "cell_type": "code",
   "execution_count": 28,
   "id": "9a68eae9-1a84-49c0-aa61-c57c8462c089",
   "metadata": {},
   "outputs": [
    {
     "data": {
      "text/plain": [
       "'something'"
      ]
     },
     "execution_count": 28,
     "metadata": {},
     "output_type": "execute_result"
    }
   ],
   "source": [
    "c1.written()"
   ]
  },
  {
   "cell_type": "code",
   "execution_count": null,
   "id": "8d2f9889-3075-4e88-9912-5eca0d41e0d4",
   "metadata": {},
   "outputs": [],
   "source": []
  }
 ],
 "metadata": {
  "kernelspec": {
   "display_name": "Python 3 (ipykernel)",
   "language": "python",
   "name": "python3"
  },
  "language_info": {
   "codemirror_mode": {
    "name": "ipython",
    "version": 3
   },
   "file_extension": ".py",
   "mimetype": "text/x-python",
   "name": "python",
   "nbconvert_exporter": "python",
   "pygments_lexer": "ipython3",
   "version": "3.10.8"
  }
 },
 "nbformat": 4,
 "nbformat_minor": 5
}
